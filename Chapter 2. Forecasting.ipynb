{
 "cells": [
  {
   "cell_type": "markdown",
   "id": "ff03edec-fff3-44d0-b3fd-a0445c6ee776",
   "metadata": {},
   "source": [
    "# Chapter 2. Forecasting\n",
    "\n",
    "Example business scenario: \n",
    "\n",
    "Standard business model for retail of a car dealership: you buy cars from a manufacturer at a low price and then sell those cars to individual customers at higher prices. Every month, you need to decide how many cars you’ll order from the manufacturer. If you order too many cars, you’ll be unable to sell them all quickly, resulting in high storage costs or cash flow problems. If you order too few cars, you won’t be able to meet your customers’ demands. Ordering the right number of cars is important. But what is the right number? \n",
    "\n",
    "We can choose linear regression to obtain a forecast of next month’s demand.\n",
    "\n",
    "Example dataset is records of the number of cars sold by dealerships in Quebec, Canada, for each of 108 consecutive months. The most recent month recorded is December 1968."
   ]
  },
  {
   "cell_type": "code",
   "execution_count": 1,
   "id": "8cb59b40-5e3d-491b-a7da-7e9c1e3d13ea",
   "metadata": {
    "tags": []
   },
   "outputs": [],
   "source": [
    "import pandas as pd"
   ]
  },
  {
   "cell_type": "code",
   "execution_count": 2,
   "id": "a9020424-a5ee-480d-b715-7d0a978020f0",
   "metadata": {
    "tags": []
   },
   "outputs": [],
   "source": [
    "carsales = pd.read_csv('datasets/carsales.csv')"
   ]
  },
  {
   "cell_type": "code",
   "execution_count": 3,
   "id": "82e8f82e-29a6-41b2-bcc7-9ab3cb337d86",
   "metadata": {
    "tags": []
   },
   "outputs": [
    {
     "name": "stdout",
     "output_type": "stream",
     "text": [
      "     Month  Monthly car sales in Quebec 1960-1968\n",
      "0  1960-01                                 6550.0\n",
      "1  1960-02                                 8728.0\n",
      "2  1960-03                                12026.0\n",
      "3  1960-04                                14395.0\n",
      "4  1960-05                                14587.0\n"
     ]
    }
   ],
   "source": [
    "print(carsales.head())"
   ]
  },
  {
   "cell_type": "markdown",
   "id": "c5b7ce20-3323-4a7d-8b3c-26480742d1e3",
   "metadata": {},
   "source": [
    "## Basic Data Cleaning"
   ]
  },
  {
   "cell_type": "code",
   "execution_count": 6,
   "id": "d9666cdb-2168-4960-be47-f0f321f9088c",
   "metadata": {
    "tags": []
   },
   "outputs": [],
   "source": [
    "# Rename columns\n",
    "carsales.columns = ['month', 'sales']"
   ]
  },
  {
   "cell_type": "code",
   "execution_count": 7,
   "id": "8c2d2730-64c4-483f-85c9-ed959bf9963b",
   "metadata": {
    "tags": []
   },
   "outputs": [
    {
     "name": "stdout",
     "output_type": "stream",
     "text": [
      "                                     month    sales\n",
      "104                                1968-09  14385.0\n",
      "105                                1968-10  21342.0\n",
      "106                                1968-11  17180.0\n",
      "107                                1968-12  14577.0\n",
      "108  Monthly car sales in Quebec 1960-1968      NaN\n"
     ]
    }
   ],
   "source": [
    "print(carsales.tail())"
   ]
  },
  {
   "cell_type": "code",
   "execution_count": 8,
   "id": "a8bc6498-80db-4498-892e-76dc1c22acdc",
   "metadata": {
    "tags": []
   },
   "outputs": [],
   "source": [
    "carsales = carsales.loc[0:107, :].copy()"
   ]
  },
  {
   "cell_type": "markdown",
   "id": "2744d9b7-40c2-44d3-8836-43db651d7362",
   "metadata": {},
   "source": [
    "Dates can present several tedious challenges that make it hard to do math and statistics the way Data Scientists want to.\n",
    "\n",
    "- Dates are sometimes not stored in a numeric data type.\n",
    "- Even when they’re in numeric form, they follow logic that is different from the logic of natural numbers, e.g., months or weekdays."
   ]
  },
  {
   "cell_type": "code",
   "execution_count": 13,
   "id": "ae95fa9e-8433-4932-9cd5-3695ffb8c4e4",
   "metadata": {
    "tags": []
   },
   "outputs": [],
   "source": [
    "# Define a new column to address the issues with the data type of our date data.\n",
    "carsales['period'] = list(range(108))"
   ]
  },
  {
   "cell_type": "markdown",
   "id": "cfca5392-8cfe-48c8-96bb-effaf7a725ef",
   "metadata": {},
   "source": [
    "## Plotting Data to Find Trends\n",
    "\n",
    "**Plotting should be done early and often in every data science project.**"
   ]
  },
  {
   "cell_type": "code",
   "execution_count": 14,
   "id": "1ea25c1b-50b7-458f-a060-de2b2ed79a82",
   "metadata": {
    "tags": []
   },
   "outputs": [],
   "source": [
    "from matplotlib import pyplot as plt"
   ]
  },
  {
   "cell_type": "code",
   "execution_count": 15,
   "id": "1e1782fd-d9b0-4a25-833d-3eb1df76ab19",
   "metadata": {
    "tags": []
   },
   "outputs": [
    {
     "data": {
      "image/png": "[encoded data removed]",
      "text/plain": [
       "<Figure size 640x480 with 1 Axes>"
      ]
     },
     "metadata": {},
     "output_type": "display_data"
    }
   ],
   "source": [
    "plt.scatter(carsales['period'], carsales['sales'])\n",
    "plt.title('Car Sales by Month')\n",
    "plt.xlabel('Month')\n",
    "plt.ylabel('Sales')\n",
    "plt.show()"
   ]
  },
  {
   "cell_type": "code",
   "execution_count": null,
   "id": "1b132044-a5f4-4a44-8594-5290d47ca7c4",
   "metadata": {},
   "outputs": [],
   "source": []
  },
  {
   "cell_type": "code",
   "execution_count": null,
   "id": "347ba16a-8150-40fc-bc9f-a177548ba966",
   "metadata": {},
   "outputs": [],
   "source": []
  },
  {
   "cell_type": "code",
   "execution_count": null,
   "id": "836a34c6-10ec-41f3-81d9-00c8add5eee5",
   "metadata": {},
   "outputs": [],
   "source": []
  }
 ],
 "metadata": {
  "kernelspec": {
   "display_name": "Python 3 (ipykernel)",
   "language": "python",
   "name": "python3"
  },
  "language_info": {
   "codemirror_mode": {
    "name": "ipython",
    "version": 3
   },
   "file_extension": ".py",
   "mimetype": "text/x-python",
   "name": "python",
   "nbconvert_exporter": "python",
   "pygments_lexer": "ipython3",
   "version": "3.11.5"
  }
 },
 "nbformat": 4,
 "nbformat_minor": 5
}
